{
 "cells": [
  {
   "cell_type": "code",
   "execution_count": 73,
   "metadata": {
    "collapsed": true
   },
   "outputs": [],
   "source": [
    "import pandas as pd\n",
    "import os\n",
    "import re"
   ]
  },
  {
   "cell_type": "code",
   "execution_count": 74,
   "metadata": {
    "collapsed": false
   },
   "outputs": [],
   "source": [
    "co = pd.read_table(\"countDataCombined.txt\", sep=\"\\t\", header=0,  index_col=False)\n",
    "le = pd.read_table(\"Fragaria_vesca_v1.1.a2_cds_lengths.txt\", sep=\"\\t\", header=0,  index_col=False)\n",
    "merged = pd.merge(co, le, on='Gene')\n",
    "merged.to_csv(\"countDataCombined_lengths.txt\", sep=\"\\t\", header=\"1\")"
   ]
  },
  {
   "cell_type": "code",
   "execution_count": 75,
   "metadata": {
    "collapsed": false
   },
   "outputs": [],
   "source": [
    "merged[\"Length\"] = merged[\"Length\"] / 1000\n",
    "merged[\"Length\"] \n",
    "merged.to_csv(\"countDataCombined_lengths.txt\", sep=\"\\t\", header=\"1\")\n",
    "\n",
    "#read_sum = merged.sum()\n",
    "#count = 0\n",
    "#for x in read_sum[1:18]:\n",
    "#    print(x)\n",
    "#    count = count + 1\n",
    "#    merged[[count]] = merged[[count]] / int(x)\n",
    "#merged[[count]]\n",
    "#merged.div(merged.sum(axis=1), axis=0)"
   ]
  }
 ],
 "metadata": {
  "kernelspec": {
   "display_name": "Python 2",
   "language": "python",
   "name": "python2"
  },
  "language_info": {
   "codemirror_mode": {
    "name": "ipython",
    "version": 2
   },
   "file_extension": ".py",
   "mimetype": "text/x-python",
   "name": "python",
   "nbconvert_exporter": "python",
   "pygments_lexer": "ipython2",
   "version": "2.7.6"
  }
 },
 "nbformat": 4,
 "nbformat_minor": 2
}
