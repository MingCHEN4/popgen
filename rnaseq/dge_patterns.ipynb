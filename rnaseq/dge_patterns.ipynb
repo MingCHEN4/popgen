{
 "cells": [
  {
   "cell_type": "code",
   "execution_count": 206,
   "metadata": {
    "collapsed": true
   },
   "outputs": [],
   "source": [
    "import pandas as pd\n",
    "import os\n",
    "import re\n",
    "import glob\n",
    "from os.path import basename"
   ]
  },
  {
   "cell_type": "code",
   "execution_count": 207,
   "metadata": {
    "collapsed": false
   },
   "outputs": [],
   "source": [
    "#Gene read counts (FPKM)\n",
    "fpkm = pd.read_table(\"fvesca_fpkm.txt\", sep=\"\\t\", header=0,  index_col=False)"
   ]
  },
  {
   "cell_type": "code",
   "execution_count": 208,
   "metadata": {
    "collapsed": false
   },
   "outputs": [],
   "source": [
    "## What genes show response to infection in Fenella - resistant cultivar (upregulation or downregulation) but don't in Emily - non-resistant cultivar?\n",
    "## Time interval 0-12\n",
    "# Upregulated in Fenella but downregulated in Emily.\n",
    "up_f12 = pd.read_table(\"featureCounts/NoFenella0_vs_P414Fenella12_up.txt\", sep=\"\\t\", header=0,  index_col=False)\n",
    "down_e12 = pd.read_table(\"featureCounts/NoEmily0_vs_P414Emily12_down.txt\", sep=\"\\t\", header=0,  index_col=False)\n",
    "union1 = pd.Series(list(set(up_f12['baseMean']).intersection(set(down_e12['baseMean']))))\n",
    "union1.to_csv(\"up_fenella_down_emily12.lst\", index=0)\n",
    "#Empty, discard"
   ]
  },
  {
   "cell_type": "code",
   "execution_count": 209,
   "metadata": {
    "collapsed": false
   },
   "outputs": [],
   "source": [
    "# Upregulated in Fenella but no change in Emily \n",
    "up_e12 = pd.read_table(\"featureCounts/NoEmily0_vs_P414Emily12_up.txt\", sep=\"\\t\", header=0,  index_col=False)\n",
    "frames = [down_e12, up_e12]\n",
    "concat_e12 = pd.concat(frames)\n",
    "diff1 = pd.Series(list(set(up_f12['baseMean']).difference(set(concat_e12['baseMean']))))\n",
    "diff1.to_csv(\"up_fenella_nochg_emily12.lst\", index=0)"
   ]
  },
  {
   "cell_type": "code",
   "execution_count": 227,
   "metadata": {
    "collapsed": false
   },
   "outputs": [
    {
     "data": {
      "text/html": [
       "<div style=\"max-height:1000px;max-width:1500px;overflow:auto;\">\n",
       "<table border=\"1\" class=\"dataframe\">\n",
       "  <thead>\n",
       "    <tr style=\"text-align: right;\">\n",
       "      <th></th>\n",
       "      <th>baseMean</th>\n",
       "      <th>log2FoldChange</th>\n",
       "      <th>lfcSE</th>\n",
       "      <th>stat</th>\n",
       "      <th>pvalue</th>\n",
       "      <th>padj</th>\n",
       "    </tr>\n",
       "  </thead>\n",
       "  <tbody>\n",
       "    <tr>\n",
       "      <th>235</th>\n",
       "      <td>                         mrna13329.1-v1.0-hybrid</td>\n",
       "      <td>  334.451132</td>\n",
       "      <td> 2.748750</td>\n",
       "      <td> 0.444725</td>\n",
       "      <td> 6.180783</td>\n",
       "      <td> 6.378424e-10</td>\n",
       "    </tr>\n",
       "    <tr>\n",
       "      <th>238</th>\n",
       "      <td>        genemark-LG3-processed-gene-80.39-mRNA-1</td>\n",
       "      <td>  227.554074</td>\n",
       "      <td> 2.479981</td>\n",
       "      <td> 0.401717</td>\n",
       "      <td> 6.173455</td>\n",
       "      <td> 6.681364e-10</td>\n",
       "    </tr>\n",
       "    <tr>\n",
       "      <th>577</th>\n",
       "      <td> augustus_masked-LG0-processed-gene-42.31-mRNA-1</td>\n",
       "      <td>  199.393678</td>\n",
       "      <td> 2.181093</td>\n",
       "      <td> 0.500079</td>\n",
       "      <td> 4.361496</td>\n",
       "      <td> 1.291759e-05</td>\n",
       "    </tr>\n",
       "    <tr>\n",
       "      <th>690</th>\n",
       "      <td>              maker-LG5-snap-gene-197.136-mRNA-1</td>\n",
       "      <td> 1952.458533</td>\n",
       "      <td> 1.681800</td>\n",
       "      <td> 0.420771</td>\n",
       "      <td> 3.996952</td>\n",
       "      <td> 6.416321e-05</td>\n",
       "    </tr>\n",
       "  </tbody>\n",
       "</table>\n",
       "<p>4 rows × 6 columns</p>\n",
       "</div>"
      ],
      "text/plain": [
       "                                            baseMean  log2FoldChange  \\\n",
       "235                          mrna13329.1-v1.0-hybrid      334.451132   \n",
       "238         genemark-LG3-processed-gene-80.39-mRNA-1      227.554074   \n",
       "577  augustus_masked-LG0-processed-gene-42.31-mRNA-1      199.393678   \n",
       "690               maker-LG5-snap-gene-197.136-mRNA-1     1952.458533   \n",
       "\n",
       "        lfcSE      stat    pvalue          padj  \n",
       "235  2.748750  0.444725  6.180783  6.378424e-10  \n",
       "238  2.479981  0.401717  6.173455  6.681364e-10  \n",
       "577  2.181093  0.500079  4.361496  1.291759e-05  \n",
       "690  1.681800  0.420771  3.996952  6.416321e-05  \n",
       "\n",
       "[4 rows x 6 columns]"
      ]
     },
     "execution_count": 227,
     "metadata": {},
     "output_type": "execute_result"
    }
   ],
   "source": [
    "# Upregulated in Fenella and upregulated in Emily (but also upregulated when doing Fenella-Emily comparison at 12h)\n",
    "fe_12up = pd.read_table(\"featureCounts/P414Fenella12h_vs_P414Emily12_up.txt\", sep=\"\\t\", header=0,  index_col=False)\n",
    "union2 = pd.Series(list(set(up_f12['baseMean']).intersection(set(up_e12['baseMean']))))\n",
    "indexes = union2.tolist()\n",
    "union3 = fe_12up[fe_12up['baseMean'].isin(indexes)]\n",
    "union3['baseMean'].to_csv(\"up_fenella_up_emily12.lst\", index=0)\n",
    "union3"
   ]
  },
  {
   "cell_type": "code",
   "execution_count": 211,
   "metadata": {
    "collapsed": false
   },
   "outputs": [],
   "source": [
    "# Downregulated in Fenella but no change in Emily\n",
    "down_f12 = pd.read_table(\"featureCounts/NoFenella0_vs_P414Fenella12_down.txt\", sep=\"\\t\", header=0,  index_col=False)\n",
    "diff2 = pd.Series(list(set(down_f12['baseMean']).difference(set(concat_e12['baseMean']))))\n",
    "diff2.to_csv(\"down_fenella_nochg_emily12.lst\", index=0)"
   ]
  },
  {
   "cell_type": "code",
   "execution_count": 212,
   "metadata": {
    "collapsed": false
   },
   "outputs": [],
   "source": [
    "# Downregulated in Fenella and downregulated in Emily (but also downregulated when doing Fenella-Emily comparison at 12h)\n",
    "fe_12down = pd.read_table(\"featureCounts/P414Fenella12h_vs_P414Emily12_down.txt\", sep=\"\\t\", header=0,  index_col=False)\n",
    "union4 = pd.Series(list(set(down_f12['baseMean']).intersection(set(down_e12['baseMean']))))\n",
    "indexes2 = union4.tolist()\n",
    "union5 = fe_12down[fe_12down['baseMean'].isin(indexes2)]\n",
    "union5['baseMean'].to_csv(\"down_fenella_down_emily12.lst\", index=0)"
   ]
  },
  {
   "cell_type": "code",
   "execution_count": 213,
   "metadata": {
    "collapsed": false
   },
   "outputs": [],
   "source": [
    "# Downregulated in Fenella but upregulated in Emily.\n",
    "union6 = pd.Series(list(set(down_f12['baseMean']).intersection(set(up_e12['baseMean']))))\n",
    "union6.to_csv(\"down_fenella_up_emily12.lst\", index=0)\n",
    "#Empty, discard"
   ]
  },
  {
   "cell_type": "code",
   "execution_count": 214,
   "metadata": {
    "collapsed": true
   },
   "outputs": [],
   "source": [
    "## Time interval 0-48\n",
    "# Upregulated in Fenella but downregulated in Emily.\n",
    "up_f48 = pd.read_table(\"featureCounts/NoFenella0_vs_P414Fenella48_up.txt\", sep=\"\\t\", header=0,  index_col=False)\n",
    "down_e48 = pd.read_table(\"featureCounts/NoEmily0_vs_P414Emily48_down.txt\", sep=\"\\t\", header=0,  index_col=False)\n",
    "union7 = pd.Series(list(set(up_f48['baseMean']).intersection(set(down_e48['baseMean']))))\n",
    "union7.to_csv(\"up_fenella_down_emily48.lst\", index=0)"
   ]
  },
  {
   "cell_type": "code",
   "execution_count": 215,
   "metadata": {
    "collapsed": false
   },
   "outputs": [],
   "source": [
    "# Upregulated in Fenella but no change in Emily \n",
    "up_e48 = pd.read_table(\"featureCounts/NoEmily0_vs_P414Emily48_up.txt\", sep=\"\\t\", header=0,  index_col=False)\n",
    "frames = [down_e48, up_e48]\n",
    "concat_e48 = pd.concat(frames)\n",
    "diff3 = pd.Series(list(set(up_f48['baseMean']).difference(set(concat_e48['baseMean']))))\n",
    "diff3.to_csv(\"up_fenella_nochg_emily48.lst\", index=0)"
   ]
  },
  {
   "cell_type": "code",
   "execution_count": 216,
   "metadata": {
    "collapsed": true
   },
   "outputs": [],
   "source": [
    "# Upregulated in Fenella and upregulated in Emily (but also upregulated when doing Fenella-Emily comparison at 48h)\n",
    "fe_48up = pd.read_table(\"featureCounts/P414Fenella48h_vs_P414Emily48_up.txt\", sep=\"\\t\", header=0,  index_col=False)\n",
    "union8 = pd.Series(list(set(up_f48['baseMean']).intersection(set(up_e48['baseMean']))))\n",
    "indexes3 = union8.tolist()\n",
    "union9 = fe_48up[fe_48up['baseMean'].isin(indexes3)]\n",
    "union9['baseMean'].to_csv(\"up_fenella_up_emily48.lst\", index=0)"
   ]
  },
  {
   "cell_type": "code",
   "execution_count": 217,
   "metadata": {
    "collapsed": true
   },
   "outputs": [],
   "source": [
    "# Downregulated in Fenella but no change in Emily\n",
    "down_f48 = pd.read_table(\"featureCounts/NoFenella0_vs_P414Fenella48_down.txt\", sep=\"\\t\", header=0,  index_col=False)\n",
    "diff4 = pd.Series(list(set(down_f48['baseMean']).difference(set(concat_e48['baseMean']))))\n",
    "diff4.to_csv(\"down_fenella_nochg_emily48.lst\", index=0)"
   ]
  },
  {
   "cell_type": "code",
   "execution_count": 218,
   "metadata": {
    "collapsed": true
   },
   "outputs": [],
   "source": [
    "# Downregulated in Fenella and downregulated in Emily (but also downregulated when doing Fenella-Emily comparison at 48h)\n",
    "fe_48down = pd.read_table(\"featureCounts/P414Fenella48h_vs_P414Emily48_down.txt\", sep=\"\\t\", header=0,  index_col=False)\n",
    "union10 = pd.Series(list(set(down_f48['baseMean']).intersection(set(down_e48['baseMean']))))\n",
    "indexes4 = union10.tolist()\n",
    "union11 = fe_48down[fe_48down['baseMean'].isin(indexes4)]\n",
    "union11['baseMean'].to_csv(\"down_fenella_down_emily48.lst\", index=0)"
   ]
  },
  {
   "cell_type": "code",
   "execution_count": 219,
   "metadata": {
    "collapsed": true
   },
   "outputs": [],
   "source": [
    "# Downregulated in Fenella but upregulated in Emily.\n",
    "union12 = pd.Series(list(set(down_f48['baseMean']).intersection(set(up_e48['baseMean']))))\n",
    "union12.to_csv(\"down_fenella_up_emily48.lst\", index=0)"
   ]
  },
  {
   "cell_type": "code",
   "execution_count": 220,
   "metadata": {
    "collapsed": false
   },
   "outputs": [],
   "source": [
    "#Constitutively upregulated in Fenella relative to Emily across all time-points \n",
    "fe_0up = pd.read_table(\"featureCounts/NoFenella0h_vs_NoEmily0_up.txt\", sep=\"\\t\", header=0,  index_col=False)\n",
    "union13 = pd.Series(list(set(fe_0up['baseMean']).intersection(set(fe_12up['baseMean']))))\n",
    "indexes5 = union13.tolist()\n",
    "union14 = fe_48up[fe_48up['baseMean'].isin(indexes5)]\n",
    "union14['baseMean'].to_csv(\"up_fenella_emily_constitutive.lst\", index=0)"
   ]
  },
  {
   "cell_type": "code",
   "execution_count": 221,
   "metadata": {
    "collapsed": false
   },
   "outputs": [],
   "source": [
    "#Constitutively downregulated in Fenella relative to Emily across all time-points \n",
    "fe_0down = pd.read_table(\"featureCounts/NoFenella0h_vs_NoEmily0_down.txt\", sep=\"\\t\", header=0,  index_col=False)\n",
    "union15 = pd.Series(list(set(fe_0down['baseMean']).intersection(set(fe_12down['baseMean']))))\n",
    "indexes6 = union15.tolist()\n",
    "union16 = fe_48down[fe_48down['baseMean'].isin(indexes6)]\n",
    "union16['baseMean'].to_csv(\"down_fenella_emily_constitutive.lst\", index=0)"
   ]
  },
  {
   "cell_type": "code",
   "execution_count": 222,
   "metadata": {
    "collapsed": false
   },
   "outputs": [],
   "source": [
    "## Are there any potential R genes in the different DGE pattern lists above?\n",
    "#Read in R genes lists.\n",
    "#NBS all\n",
    "nbs = pd.read_table(\"vesca1.1.NBS.all.lst\", sep=\"\\t\", header=0,  index_col=False)\n",
    "nbs['R Type'] = \"NBS\"\n",
    "#RLK all\n",
    "rlk = pd.read_table(\"vesca1.1.RLK.all.lst\", sep=\"\\t\", header=0,  index_col=False)\n",
    "rlk['R Type'] = \"RLK\"\n",
    "#SRLK all\n",
    "srlk = pd.read_table(\"vesca1.1_slrk.lst\", sep=\"\\t\", header=0,  index_col=False)\n",
    "srlk['R Type'] = \"SRLK\"\n",
    "#RLP all\n",
    "rlp = pd.read_table(\"vesca1.1.RLP.all.lst\", sep=\"\\t\", header=0,  index_col=False)\n",
    "rlp['R Type'] = \"RLP\"\n",
    "\n",
    "r_frames = [nbs, rlk, srlk, rlp]\n",
    "all_r_genes = pd.concat(r_frames)"
   ]
  },
  {
   "cell_type": "code",
   "execution_count": 223,
   "metadata": {
    "collapsed": false
   },
   "outputs": [],
   "source": [
    "#Are there any potential R genes within 1 Mbp of the QTLs in the different DGE pattern lists above?\n",
    "#Read in the genes lists\n",
    "#NBS all\n",
    "#nbs_1mbp = pd.read_table(\"charlotte_1mbp_vesca1.1.NBS.all.lst\", sep=\"\\t\", header=0,  index_col=False)\n",
    "#RLK all\n",
    "#rlk_1mbp = pd.read_table(\"charlotte_1mbp_vesca1.1.RLK.all.lst\", sep=\"\\t\", header=0,  index_col=False)\n",
    "#SRLK all\n",
    "#srlk_1mbp = pd.read_table(\"charlotte_1mbp_vesca1.1_slrk.lst\", sep=\"\\t\", header=0,  index_col=False)\n",
    "#RLP all\n",
    "#srlk_1mbp = pd.read_table(\"charlotte_1mbp_vesca1.1.RLP.all.lst\", sep=\"\\t\", header=0,  index_col=False)\n",
    "#frames4 = [nbs_1mbp,rlk_1mbp,srlk_1mbp,srlk_1mbp]\n",
    "#qtls = pd.concat(frames4)\n",
    "#qtls['QTL'] = \"R gene within 1 Mbp\"\n",
    "#qtls"
   ]
  },
  {
   "cell_type": "code",
   "execution_count": 224,
   "metadata": {
    "collapsed": false
   },
   "outputs": [],
   "source": [
    "#Are there non-R genes within 1 Mbp of the QTLs in the different DGE pattern lists above?\n",
    "#Reads in the genes lists (all genes)\n",
    "all_1mbp = pd.read_table(\"qtls_charlotte_1mbp_overlap_mrna.lst\", sep=\"\\t\", header=0,  index_col=False)\n",
    "all_1mbp[\"QTL\"] = \"Within 1 Mbp\"\n",
    "#non_qtls = pd.Series(list(set(all_1mbp['Genes']).difference(set(qtls['Genes']))))\n",
    "#non_qtls.to_frame(name=\"Genes\")\n",
    "#non_qtls[\"QTL\"] = \"Non R gene within 1 Mbp\""
   ]
  },
  {
   "cell_type": "code",
   "execution_count": 225,
   "metadata": {
    "collapsed": false
   },
   "outputs": [],
   "source": [
    "#Join the differential gene expression patterns lists, R gene and within-1Mbp-of-QTL lists with the FPKM counts.\n",
    "lists_up = glob.glob('up*.lst')\n",
    "lists_down = glob.glob('down*.lst')\n",
    "lists_all = lists_up + lists_down\n",
    "for l in lists_all:\n",
    "    a = pd.read_table(l, sep=\"\\t\", index_col=False, names=[\"Gene\"])\n",
    "    merged = pd.merge(a, all_r_genes, how=\"left\", on='Gene')\n",
    "    merged2 = pd.merge(merged, all_1mbp, how=\"left\", on='Gene')\n",
    "    merged3 = pd.merge(merged2, fpkm, how=\"left\", on='Gene')\n",
    "    c = basename(l)\n",
    "    d = os.path.splitext(c)[0]\n",
    "    out = d + \"_all_table.txt\"\n",
    "    merged3.to_csv(out, index=0, sep=\"\\t\")\n",
    "    merged_r1 = pd.merge(a, all_r_genes, on='Gene')\n",
    "    merged_r2 = pd.merge(merged_r1, all_1mbp, how=\"left\", on='Gene')\n",
    "    merged_r3 = pd.merge(merged_r2, fpkm, how=\"left\", on='Gene')\n",
    "    out2 = d + \"_rgene_table.txt\"\n",
    "    merged_r3.to_csv(out2, index=0, sep=\"\\t\")\n",
    "    merged_q2 = pd.merge(merged, all_1mbp, on='Gene')\n",
    "    merged_q3 = pd.merge(merged_q2, fpkm, how=\"left\", on='Gene')                 \n",
    "    out3 = d + \"_qtl_table.txt\"\n",
    "    merged_q3.to_csv(out3, index=0, sep=\"\\t\")\n",
    "    #QTL and R gene at the same time?\n",
    "    merged_qr = pd.merge(merged_r3, merged_q3, on='Gene')\n",
    "    out4 =  d + \"_r_qtl_table.txt\"\n",
    "    merged_qr.to_csv(out4, index=0, sep=\"\\t\")"
   ]
  }
 ],
 "metadata": {
  "kernelspec": {
   "display_name": "Python 2",
   "language": "python",
   "name": "python2"
  },
  "language_info": {
   "codemirror_mode": {
    "name": "ipython",
    "version": 2
   },
   "file_extension": ".py",
   "mimetype": "text/x-python",
   "name": "python",
   "nbconvert_exporter": "python",
   "pygments_lexer": "ipython2",
   "version": "2.7.6"
  }
 },
 "nbformat": 4,
 "nbformat_minor": 2
}
