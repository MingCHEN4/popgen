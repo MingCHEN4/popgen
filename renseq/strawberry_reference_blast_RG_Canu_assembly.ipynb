{
 "cells": [
  {
   "cell_type": "code",
   "execution_count": 3,
   "metadata": {
    "collapsed": false
   },
   "outputs": [
    {
     "data": {
      "text/html": [
       "<script>requirejs.config({paths: { 'plotly': ['https://cdn.plot.ly/plotly-latest.min']},});if(!window.Plotly) {{require(['plotly'],function(plotly) {window.Plotly=plotly;});}}</script>"
      ],
      "text/vnd.plotly.v1+html": [
       "<script>requirejs.config({paths: { 'plotly': ['https://cdn.plot.ly/plotly-latest.min']},});if(!window.Plotly) {{require(['plotly'],function(plotly) {window.Plotly=plotly;});}}</script>"
      ]
     },
     "metadata": {},
     "output_type": "display_data"
    }
   ],
   "source": [
    "import pandas as pd\n",
    "import plotly.plotly as py\n",
    "import cufflinks as cf\n",
    "import matplotlib.pyplot as plt    \n",
    "from plotly.offline import download_plotlyjs, init_notebook_mode, plot, iplot\n",
    "import os\n",
    "import re\n",
    "import csv\n",
    "\n",
    "init_notebook_mode(connected=True)"
   ]
  },
  {
   "cell_type": "code",
   "execution_count": 4,
   "metadata": {
    "collapsed": false
   },
   "outputs": [],
   "source": [
    "#vs F. vesca genome\n",
    "e = \"G06.contigs.fasta_vs_Fragaria_vesca_v1.1.a2_cds_removed.fasta_nucl.db\"\n",
    "#vs selected NBS-LRR genes\n",
    "f = \"G06.contigs.fasta_vs_vesca_v1.1_nblrrs_augustus_cds_nucl.db\"\n",
    "#Output from NBS Parser\n",
    "nbs_pars = \"G06.assembly_nlr.tsv\"\n",
    "\n",
    "#Lengths\n",
    "i = \"G06.contigs_lengths.txt\"\n",
    "g = \"Fragaria_vesca_v1.1.a2_cds_lengths.txt\"\n",
    "h = \"vesca_v1.1_nblrrs_augustus_cds_lengths.txt\"\n",
    "\n",
    "df = pd.read_table(e, sep=\"\\t\", header=0,  index_col=False,\n",
    "    names=[\"qseqid\", \"sseqid\", \"pident\", \"aln_length\", \"mismatch\", \n",
    "           \"gapopen\", \"qstart\", \"qend\", \"sstart\", \"send\", \"evalue\", \"bitscore\", \"qlen\", \"slen\", \"sstrand\"])\n",
    "df2 = pd.read_table(f, sep=\"\\t\", header=0,  index_col=False,\n",
    "    names=[\"qseqid\", \"sseqid\", \"pident\", \"aln_length\", \"mismatch\", \n",
    "           \"gapopen\", \"qstart\", \"qend\", \"sstart\", \"send\", \"evalue\", \"bitscore\", \"qlen\", \"slen\", \"sstrand\"])\n",
    "\n",
    "all_sequences = pd.read_table(i, sep=\",\", header=0,  index_col=False,\n",
    "    names=[\"seqid\", \"length\"])\n",
    "\n",
    "all_vesca = pd.read_table(g, sep=\",\", header=0,  index_col=False,\n",
    "    names=[\"vescaid\", \"length\"])\n",
    "all_nblrrs = pd.read_table(h, sep=\",\", header=0,  index_col=False,\n",
    "    names=[\"nblrrid\", \"length\"])\n",
    "all_nbs_parser = pd.read_table(nbs_pars, sep=\"\\t\", header=0,  index_col=False,\n",
    "    names=[\"contig\", \"pred_id\", \"status\", \"start\", \"end\", \"strand\", \"domains\"])"
   ]
  },
  {
   "cell_type": "code",
   "execution_count": 5,
   "metadata": {
    "collapsed": false
   },
   "outputs": [
    {
     "data": {
      "text/plain": [
       "239"
      ]
     },
     "execution_count": 5,
     "metadata": {},
     "output_type": "execute_result"
    }
   ],
   "source": [
    "#Homologs of how many vesca genes from original bait design are present in the Ren-seq output?\n",
    "union1 = pd.Series(list(set(df2['sseqid']).intersection(set(all_nblrrs['nblrrid']))))\n",
    "len(union1)"
   ]
  },
  {
   "cell_type": "code",
   "execution_count": 45,
   "metadata": {
    "collapsed": false
   },
   "outputs": [
    {
     "data": {
      "text/plain": [
       "200"
      ]
     },
     "execution_count": 45,
     "metadata": {},
     "output_type": "execute_result"
    }
   ],
   "source": [
    "#Homologs of how many vesca genes from original bait design are present in the Ren-seq output? (Max 90% divergence)\n",
    "df2_max90 = df2[df2['pident'] >= 90]\n",
    "union90 = pd.Series(list(set(df2_max90['sseqid']).intersection(set(all_nblrrs['nblrrid']))))\n",
    "len(union90)"
   ]
  },
  {
   "cell_type": "code",
   "execution_count": 46,
   "metadata": {
    "collapsed": false
   },
   "outputs": [
    {
     "data": {
      "text/plain": [
       "89"
      ]
     },
     "execution_count": 46,
     "metadata": {},
     "output_type": "execute_result"
    }
   ],
   "source": [
    "#How many vesca genes from original bait design are NOT present in the Ren-seq output?\n",
    "diff2 = pd.Series(list(set(all_nblrrs['nblrrid']).difference(set(df2['sseqid']))))\n",
    "len(diff2)"
   ]
  },
  {
   "cell_type": "code",
   "execution_count": 6,
   "metadata": {
    "collapsed": false
   },
   "outputs": [
    {
     "data": {
      "text/plain": [
       "143"
      ]
     },
     "execution_count": 6,
     "metadata": {},
     "output_type": "execute_result"
    }
   ],
   "source": [
    "#How many input sequences have a hit to the vesca genes in the original bait design?\n",
    "union2 = pd.Series(list(set(df2['qseqid']).intersection(set(all_sequences['seqid']))))\n",
    "len(union2)"
   ]
  },
  {
   "cell_type": "code",
   "execution_count": 48,
   "metadata": {
    "collapsed": false
   },
   "outputs": [
    {
     "data": {
      "text/plain": [
       "451"
      ]
     },
     "execution_count": 48,
     "metadata": {},
     "output_type": "execute_result"
    }
   ],
   "source": [
    "###Are any additional vesca genes present? \n",
    "#All the hits in all the genes, max. 90 divergence:\n",
    "df_max90 = df[df['pident'] >= 90]\n",
    "union9 = pd.Series(list(set(df_max90['sseqid']).intersection(set(all_vesca['vescaid']))))\n",
    "len(union9)"
   ]
  },
  {
   "cell_type": "code",
   "execution_count": 49,
   "metadata": {
    "collapsed": false
   },
   "outputs": [
    {
     "data": {
      "text/plain": [
       "145"
      ]
     },
     "execution_count": 49,
     "metadata": {},
     "output_type": "execute_result"
    }
   ],
   "source": [
    "#How many input sequences have a hit on the vesca genome?\n",
    "union_v = pd.Series(list(set(df['qseqid']).intersection(set(all_sequences['seqid']))))\n",
    "len(union_v)"
   ]
  },
  {
   "cell_type": "code",
   "execution_count": 50,
   "metadata": {
    "collapsed": false
   },
   "outputs": [
    {
     "data": {
      "text/plain": [
       "0"
      ]
     },
     "execution_count": 50,
     "metadata": {},
     "output_type": "execute_result"
    }
   ],
   "source": [
    "#How many input sequences DO NOT have a hit on the vesca genome?\n",
    "diff3 = pd.Series(list(set(all_sequences['seqid']).difference(set(df['qseqid']))))\n",
    "len(diff3)"
   ]
  },
  {
   "cell_type": "code",
   "execution_count": 51,
   "metadata": {
    "collapsed": false
   },
   "outputs": [
    {
     "data": {
      "text/plain": [
       "1561"
      ]
     },
     "execution_count": 51,
     "metadata": {},
     "output_type": "execute_result"
    }
   ],
   "source": [
    "#How many contigs contain a predicted NBS-LRR gene (according to NBS Parser?\n",
    "just_ids = (all_nbs_parser.iloc[:,[0,2]])\n",
    "just_ids_dedup = just_ids.drop_duplicates()\n",
    "len(just_ids_dedup)"
   ]
  },
  {
   "cell_type": "code",
   "execution_count": 52,
   "metadata": {
    "collapsed": false
   },
   "outputs": [
    {
     "data": {
      "text/plain": [
       "469"
      ]
     },
     "execution_count": 52,
     "metadata": {},
     "output_type": "execute_result"
    }
   ],
   "source": [
    "#How many of them complete?\n",
    "complete = just_ids[just_ids['status'] == \"complete\"]\n",
    "len(complete)"
   ]
  },
  {
   "cell_type": "code",
   "execution_count": 53,
   "metadata": {
    "collapsed": false
   },
   "outputs": [
    {
     "data": {
      "text/plain": [
       "564"
      ]
     },
     "execution_count": 53,
     "metadata": {},
     "output_type": "execute_result"
    }
   ],
   "source": [
    "#How many of them partial?\n",
    "partial = just_ids[just_ids['status'] == \"partial\"]\n",
    "len(partial)"
   ]
  },
  {
   "cell_type": "code",
   "execution_count": 54,
   "metadata": {
    "collapsed": false
   },
   "outputs": [
    {
     "data": {
      "text/plain": [
       "550"
      ]
     },
     "execution_count": 54,
     "metadata": {},
     "output_type": "execute_result"
    }
   ],
   "source": [
    "#How many of them pseudogenes?\n",
    "pseudogene = just_ids[just_ids['status'] == \"pseudogene\"]\n",
    "len(pseudogene)"
   ]
  },
  {
   "cell_type": "code",
   "execution_count": 55,
   "metadata": {
    "collapsed": true
   },
   "outputs": [],
   "source": [
    "###Investigate the distribution of coding, 5' upstream and 3' upstream regions among all the hits in the vesca genome."
   ]
  },
  {
   "cell_type": "code",
   "execution_count": 56,
   "metadata": {
    "collapsed": false
   },
   "outputs": [],
   "source": [
    "#Prefilter to retain only top hit (in terms of %aln) for each query sequence.\n",
    "#df.groupby(['qseqid'], sort=False)['pident'].max()\n",
    "idx = df.groupby(['qseqid'])['aln_length'].transform(max) == df['aln_length']\n",
    "df_top = df[idx]\n",
    "select_matches = (df_top.iloc[:,[0,1]])\n",
    "select_dict = select_matches.set_index('qseqid')['sseqid'].to_dict()\n",
    "lst_index = list()\n",
    "for index, row in select_matches.iterrows():\n",
    "    if row['qseqid'] in select_dict:\n",
    "        if select_dict[row['qseqid']] == row['sseqid']:\n",
    "            lst_index.append(index)\n",
    "df_prefilt = (df.ix[lst_index])\n",
    "all_alignment_lengths = list()\n",
    "all_relative_alignment_lengths = list()\n",
    "all_five_lengths = list()\n",
    "all_three_lengths = list()\n",
    "for key in select_dict.keys():\n",
    "    aln_length = 0\n",
    "    UTR_5_len = 0\n",
    "    UTR_3_len = 0\n",
    "    df_slice = df_prefilt[df_prefilt['qseqid'] == key]\n",
    "    for i, r in df_slice.iterrows():\n",
    "        aln_length += r['aln_length']\n",
    "        #Check if matches start position\n",
    "        if r['sstart'] == 1:\n",
    "            UTR_5_len = r['qlen'] - r['qstart']\n",
    "            all_five_lengths.append(UTR_5_len)\n",
    "        elif r['send'] == 1:\n",
    "            UTR_5_len = r['qlen'] - r['qstart'] \n",
    "            all_five_lengths.append(UTR_5_len)\n",
    "        #Check if matches end position\n",
    "        if r['sstart'] >= r['slen'] - 3:\n",
    "            UTR_3_len = r['qlen'] - r ['qend']\n",
    "            all_three_lengths.append(UTR_3_len)\n",
    "        elif r['send'] >= r['slen'] - 3:\n",
    "            UTR_3_len = r['qlen'] - r ['qend']\n",
    "            all_three_lengths.append(UTR_3_len)\n",
    "    all_alignment_lengths.append(aln_length)\n",
    "    relative_length = float(aln_length)/float(r['slen'])\n",
    "    all_relative_alignment_lengths.append(relative_length)"
   ]
  },
  {
   "cell_type": "code",
   "execution_count": 57,
   "metadata": {
    "collapsed": false
   },
   "outputs": [
    {
     "name": "stderr",
     "output_type": "stream",
     "text": [
      "/usr/local/lib/python2.7/dist-packages/requests/packages/urllib3/util/ssl_.py:132: InsecurePlatformWarning:\n",
      "\n",
      "A true SSLContext object is not available. This prevents urllib3 from configuring SSL appropriately and may cause certain SSL connections to fail. You can upgrade to a newer version of Python to solve this. For more information, see https://urllib3.readthedocs.io/en/latest/advanced-usage.html#ssl-warnings\n",
      "\n"
     ]
    },
    {
     "data": {
      "text/html": [
       "<iframe id=\"igraph\" scrolling=\"no\" style=\"border:none;\" seamless=\"seamless\" src=\"https://plot.ly/~mkesobczyk/36.embed\" height=\"525px\" width=\"100%\"></iframe>"
      ],
      "text/plain": [
       "<plotly.tools.PlotlyDisplay object>"
      ]
     },
     "execution_count": 57,
     "metadata": {},
     "output_type": "execute_result"
    }
   ],
   "source": [
    "#Histogram for CDS total length\n",
    "cds = pd.Series(all_alignment_lengths).value_counts()\n",
    "cds_d = cds.to_frame(name=\"Frequency\")\n",
    "cds_d.iplot(kind='bar', color=\"black\")"
   ]
  },
  {
   "cell_type": "code",
   "execution_count": 58,
   "metadata": {
    "collapsed": false
   },
   "outputs": [
    {
     "name": "stderr",
     "output_type": "stream",
     "text": [
      "/usr/local/lib/python2.7/dist-packages/requests/packages/urllib3/util/ssl_.py:132: InsecurePlatformWarning:\n",
      "\n",
      "A true SSLContext object is not available. This prevents urllib3 from configuring SSL appropriately and may cause certain SSL connections to fail. You can upgrade to a newer version of Python to solve this. For more information, see https://urllib3.readthedocs.io/en/latest/advanced-usage.html#ssl-warnings\n",
      "\n"
     ]
    },
    {
     "data": {
      "text/html": [
       "<iframe id=\"igraph\" scrolling=\"no\" style=\"border:none;\" seamless=\"seamless\" src=\"https://plot.ly/~mkesobczyk/38.embed\" height=\"525px\" width=\"100%\"></iframe>"
      ],
      "text/plain": [
       "<plotly.tools.PlotlyDisplay object>"
      ]
     },
     "execution_count": 58,
     "metadata": {},
     "output_type": "execute_result"
    }
   ],
   "source": [
    "#Histogram for CDS relative length (fraction reference)\n",
    "cds_rel = pd.Series(all_relative_alignment_lengths).value_counts()\n",
    "cds_rel_d = cds_rel.to_frame(name=\"Frequency\")\n",
    "cds_rel_d.iplot(kind='bar', color=\"gray\")"
   ]
  },
  {
   "cell_type": "code",
   "execution_count": 59,
   "metadata": {
    "collapsed": false
   },
   "outputs": [
    {
     "name": "stderr",
     "output_type": "stream",
     "text": [
      "/usr/local/lib/python2.7/dist-packages/requests/packages/urllib3/util/ssl_.py:132: InsecurePlatformWarning:\n",
      "\n",
      "A true SSLContext object is not available. This prevents urllib3 from configuring SSL appropriately and may cause certain SSL connections to fail. You can upgrade to a newer version of Python to solve this. For more information, see https://urllib3.readthedocs.io/en/latest/advanced-usage.html#ssl-warnings\n",
      "\n"
     ]
    },
    {
     "data": {
      "text/html": [
       "<iframe id=\"igraph\" scrolling=\"no\" style=\"border:none;\" seamless=\"seamless\" src=\"https://plot.ly/~mkesobczyk/40.embed\" height=\"525px\" width=\"100%\"></iframe>"
      ],
      "text/plain": [
       "<plotly.tools.PlotlyDisplay object>"
      ]
     },
     "execution_count": 59,
     "metadata": {},
     "output_type": "execute_result"
    }
   ],
   "source": [
    "#Histogram for 5' UTR lengths\n",
    "five_l = pd.Series(all_five_lengths).value_counts()\n",
    "five_l_d = five_l.to_frame(name=\"Frequency\")\n",
    "five_l_d.iplot(kind='bar', color=\"green\")"
   ]
  },
  {
   "cell_type": "code",
   "execution_count": 60,
   "metadata": {
    "collapsed": false
   },
   "outputs": [
    {
     "name": "stderr",
     "output_type": "stream",
     "text": [
      "/usr/local/lib/python2.7/dist-packages/requests/packages/urllib3/util/ssl_.py:132: InsecurePlatformWarning:\n",
      "\n",
      "A true SSLContext object is not available. This prevents urllib3 from configuring SSL appropriately and may cause certain SSL connections to fail. You can upgrade to a newer version of Python to solve this. For more information, see https://urllib3.readthedocs.io/en/latest/advanced-usage.html#ssl-warnings\n",
      "\n"
     ]
    },
    {
     "data": {
      "text/html": [
       "<iframe id=\"igraph\" scrolling=\"no\" style=\"border:none;\" seamless=\"seamless\" src=\"https://plot.ly/~mkesobczyk/42.embed\" height=\"525px\" width=\"100%\"></iframe>"
      ],
      "text/plain": [
       "<plotly.tools.PlotlyDisplay object>"
      ]
     },
     "execution_count": 60,
     "metadata": {},
     "output_type": "execute_result"
    }
   ],
   "source": [
    "#Histogram for 3' UTR lengths\n",
    "three_l = pd.Series(all_three_lengths).value_counts()\n",
    "three_l_d = three_l.to_frame(name=\"Frequency\")\n",
    "three_l_d.iplot(kind='bar', color=\"purple\")"
   ]
  }
 ],
 "metadata": {
  "kernelspec": {
   "display_name": "Python 2",
   "language": "python",
   "name": "python2"
  },
  "language_info": {
   "codemirror_mode": {
    "name": "ipython",
    "version": 2
   },
   "file_extension": ".py",
   "mimetype": "text/x-python",
   "name": "python",
   "nbconvert_exporter": "python",
   "pygments_lexer": "ipython2",
   "version": "2.7.6"
  }
 },
 "nbformat": 4,
 "nbformat_minor": 2
}
